{
 "cells": [
  {
   "cell_type": "markdown",
   "metadata": {
    "application/vnd.databricks.v1+cell": {
     "cellMetadata": {},
     "inputWidgets": {},
     "nuid": "cc9aca83-e371-41e8-ae2c-2091f268700e",
     "showTitle": false,
     "tableResultSettingsMap": {},
     "title": ""
    }
   },
   "source": [
    "### Creating Catalog, Schema and Table"
   ]
  },
  {
   "cell_type": "code",
   "execution_count": 0,
   "metadata": {
    "application/vnd.databricks.v1+cell": {
     "cellMetadata": {
      "byteLimit": 2048000,
      "implicitDf": true,
      "rowLimit": 10000
     },
     "inputWidgets": {},
     "nuid": "2ed23b0d-e0ba-4492-a6a6-2d5e9d85161f",
     "showTitle": false,
     "tableResultSettingsMap": {},
     "title": ""
    }
   },
   "outputs": [],
   "source": [
    "%sql\n",
    "CREATE CATALOG IF NOT EXISTS ctl_joecrypto;"
   ]
  },
  {
   "cell_type": "code",
   "execution_count": 0,
   "metadata": {
    "application/vnd.databricks.v1+cell": {
     "cellMetadata": {
      "byteLimit": 2048000,
      "implicitDf": true,
      "rowLimit": 10000
     },
     "inputWidgets": {},
     "nuid": "4407405c-d0fb-4751-a329-85f55ad9452b",
     "showTitle": false,
     "tableResultSettingsMap": {},
     "title": ""
    }
   },
   "outputs": [],
   "source": [
    "%sql\n",
    "CREATE SCHEMA IF NOT EXISTS ctl_joecrypto.staging_schema;"
   ]
  },
  {
   "cell_type": "code",
   "execution_count": 0,
   "metadata": {
    "application/vnd.databricks.v1+cell": {
     "cellMetadata": {
      "byteLimit": 2048000,
      "rowLimit": 10000
     },
     "inputWidgets": {},
     "nuid": "f09d735a-530a-4e19-b2a3-ccd142d1e8b4",
     "showTitle": false,
     "tableResultSettingsMap": {},
     "title": ""
    }
   },
   "outputs": [],
   "source": [
    "gold_path = \"abfss://gold@joecryptostorage01.dfs.core.windows.net/\"\n",
    "silver_path = \"abfss://silver@joecryptostorage01.dfs.core.windows.net/silver_crypto\""
   ]
  },
  {
   "cell_type": "code",
   "execution_count": 0,
   "metadata": {
    "application/vnd.databricks.v1+cell": {
     "cellMetadata": {
      "byteLimit": 2048000,
      "implicitDf": true,
      "rowLimit": 10000
     },
     "inputWidgets": {},
     "nuid": "7fee4f26-b51c-4bf4-a8d8-1cc847adb79e",
     "showTitle": false,
     "tableResultSettingsMap": {},
     "title": ""
    }
   },
   "outputs": [],
   "source": [
    "%sql\n",
    "SHOW EXTERNAL LOCATIONS"
   ]
  },
  {
   "cell_type": "code",
   "execution_count": 0,
   "metadata": {
    "application/vnd.databricks.v1+cell": {
     "cellMetadata": {
      "byteLimit": 2048000,
      "implicitDf": true,
      "rowLimit": 10000
     },
     "inputWidgets": {},
     "nuid": "1c8d6d33-458c-40ee-ab82-5ad16e068c4c",
     "showTitle": false,
     "tableResultSettingsMap": {},
     "title": ""
    }
   },
   "outputs": [],
   "source": [
    "%sql\n",
    "CREATE TABLE IF NOT EXISTS ctl_joecrypto.staging_schema.silvercryptofinal\n",
    "USING DELTA\n",
    "LOCATION \"abfss://silver@joecryptostorage01.dfs.core.windows.net/silver_crypto\";"
   ]
  },
  {
   "cell_type": "code",
   "execution_count": 0,
   "metadata": {
    "application/vnd.databricks.v1+cell": {
     "cellMetadata": {
      "byteLimit": 2048000,
      "implicitDf": true,
      "rowLimit": 10000
     },
     "inputWidgets": {},
     "nuid": "71e6ad39-808b-4dfb-bbc5-b444a67ad557",
     "showTitle": false,
     "tableResultSettingsMap": {
      "0": {
       "dataGridStateBlob": "{\"version\":1,\"tableState\":{\"columnPinning\":{\"left\":[\"#row_number#\"],\"right\":[]},\"columnSizing\":{\"atl_date_ts\":195},\"columnVisibility\":{}},\"settings\":{\"columns\":{\"image\":{\"format\":{\"preset\":\"string-preset-url\"}}}},\"syncTimestamp\":1751641705784}",
       "filterBlob": null,
       "queryPlanFiltersBlob": null,
       "tableResultIndex": 0
      }
     },
     "title": ""
    }
   },
   "outputs": [],
   "source": [
    "%sql\n",
    "SELECT * FROM ctl_joecrypto.staging_schema.silvercryptofinal \n",
    "LIMIT 5;"
   ]
  },
  {
   "cell_type": "markdown",
   "metadata": {
    "application/vnd.databricks.v1+cell": {
     "cellMetadata": {},
     "inputWidgets": {},
     "nuid": "4df3676d-968a-4005-bc8b-58e74f2388b7",
     "showTitle": false,
     "tableResultSettingsMap": {},
     "title": ""
    }
   },
   "source": [
    "### Normalizing the General Table - silvercryptofinal\n",
    "-- By extracting the fact and dimension tables"
   ]
  },
  {
   "cell_type": "code",
   "execution_count": 0,
   "metadata": {
    "application/vnd.databricks.v1+cell": {
     "cellMetadata": {
      "byteLimit": 2048000,
      "implicitDf": true,
      "rowLimit": 10000
     },
     "inputWidgets": {},
     "nuid": "f037cb3b-966f-4334-b5a8-06b1224734e8",
     "showTitle": false,
     "tableResultSettingsMap": {},
     "title": ""
    }
   },
   "outputs": [],
   "source": [
    "%sql\n",
    "-- Creating a seperate schema for gold tables\n",
    "CREATE SCHEMA IF NOT EXISTS ctl_joecrypto.gold_schema;"
   ]
  },
  {
   "cell_type": "code",
   "execution_count": 0,
   "metadata": {
    "application/vnd.databricks.v1+cell": {
     "cellMetadata": {
      "byteLimit": 2048000,
      "implicitDf": true,
      "rowLimit": 10000
     },
     "inputWidgets": {},
     "nuid": "37308c2c-7dfc-4105-9768-b9ad5ec38beb",
     "showTitle": false,
     "tableResultSettingsMap": {},
     "title": ""
    }
   },
   "outputs": [],
   "source": [
    "%sql\n",
    "-- DROP TABLE IF EXISTS ctl_joecrypto.staging_schema.dim_roi\n",
    "-- delete the dropped table from the storage too;\n",
    "-- DROP TABLE IF EXISTS ctl_joecrypto.gold_schema.fact_crypto\n"
   ]
  },
  {
   "cell_type": "code",
   "execution_count": 0,
   "metadata": {
    "application/vnd.databricks.v1+cell": {
     "cellMetadata": {
      "byteLimit": 2048000,
      "implicitDf": true,
      "rowLimit": 10000
     },
     "inputWidgets": {},
     "nuid": "702780c6-6d86-4bf9-b28b-ca97ea13f594",
     "showTitle": false,
     "tableResultSettingsMap": {},
     "title": ""
    }
   },
   "outputs": [],
   "source": [
    "%sql\n",
    "CREATE TABLE IF NOT EXISTS ctl_joecrypto.gold_schema.dim_roi(\n",
    "  roi_id BIGINT GENERATED ALWAYS AS IDENTITY PRIMARY KEY,\n",
    "  id STRING,\n",
    "  roi_time DOUBLE,\n",
    "  roi_currency STRING,\n",
    "  roi_percentage DOUBLE,\n",
    "  last_updated_ts TIMESTAMP\n",
    "  )\n",
    "  USING DELTA\n",
    "  LOCATION \"abfss://gold@joecryptostorage01.dfs.core.windows.net/dim_roi\";"
   ]
  },
  {
   "cell_type": "code",
   "execution_count": 0,
   "metadata": {
    "application/vnd.databricks.v1+cell": {
     "cellMetadata": {
      "byteLimit": 2048000,
      "implicitDf": true,
      "rowLimit": 10000
     },
     "inputWidgets": {},
     "nuid": "e3382552-e6c0-4759-ac7b-9b8cbdccc739",
     "showTitle": false,
     "tableResultSettingsMap": {},
     "title": ""
    }
   },
   "outputs": [],
   "source": [
    "%sql\n",
    "CREATE TABLE IF NOT EXISTS ctl_joecrypto.gold_schema.dim_crypto\n",
    "(\n",
    "  dim_crypto_id BIGINT GENERATED ALWAYS AS IDENTITY PRIMARY KEY,\n",
    "  id STRING NOT NULL,\n",
    "  name STRING,\n",
    "  symbol STRING,\n",
    "  ath DOUBLE,\n",
    "  ath_change_percentage DOUBLE,\n",
    "  market_cap_billions DOUBLE,\n",
    "  volume_to_market_cap_ratio DOUBLE,\n",
    "  last_updated_ts TIMESTAMP\n",
    ")\n",
    "USING DELTA\n",
    "LOCATION \"abfss://gold@joecryptostorage01.dfs.core.windows.net/dim_crypto\""
   ]
  },
  {
   "cell_type": "code",
   "execution_count": 0,
   "metadata": {
    "application/vnd.databricks.v1+cell": {
     "cellMetadata": {
      "byteLimit": 2048000,
      "implicitDf": true,
      "rowLimit": 10000
     },
     "inputWidgets": {},
     "nuid": "34e70ace-7bb6-43a8-b06d-55d3a49fe2a5",
     "showTitle": false,
     "tableResultSettingsMap": {},
     "title": ""
    }
   },
   "outputs": [],
   "source": [
    "%sql\n",
    "CREATE TABLE IF NOT EXISTS ctl_joecrypto.gold_schema.fact_crypto\n",
    "(\n",
    "  id STRING PRIMARY KEY,\n",
    "  market_cap_rank BIGINT,\n",
    "  max_supply DOUBLE,\n",
    "  total_supply DOUBLE,\n",
    "  circulating_supply DOUBLE,\n",
    "  total_volume DOUBLE,\n",
    "  market_cap DOUBLE,\n",
    "  market_cap_change_24h DOUBLE, \n",
    "  market_cap_change_percentage_24h DOUBLE,\n",
    "  price_change_24h DOUBLE,\n",
    "  price_change_percentage_24h DOUBLE,\n",
    "  fully_diluted_valuation DOUBLE,\n",
    "  market_cap_billions DOUBLE,\n",
    "  high_24h DOUBLE,\n",
    "  low_24h DOUBLE,\n",
    "  current_price DOUBLE,\n",
    "  date_partition DATE, \n",
    "  last_updated_ts TIMESTAMP\n",
    "\n",
    ")\n",
    "USING DELTA\n",
    "LOCATION \"abfss://gold@joecryptostorage01.dfs.core.windows.net/fact_crypto\";"
   ]
  },
  {
   "cell_type": "code",
   "execution_count": 0,
   "metadata": {
    "application/vnd.databricks.v1+cell": {
     "cellMetadata": {
      "byteLimit": 2048000,
      "implicitDf": true,
      "rowLimit": 10000
     },
     "inputWidgets": {},
     "nuid": "ee2f7d96-e731-4263-8831-82ae4691c04d",
     "showTitle": false,
     "tableResultSettingsMap": {},
     "title": ""
    }
   },
   "outputs": [],
   "source": [
    "%sql\n",
    "CREATE TABLE IF NOT EXISTS ctl_joecrypto.gold_schema.dim_price_history (\n",
    "  price_history_id BIGINT GENERATED ALWAYS AS IDENTITY PRIMARY KEY,\n",
    "  id STRING NOT NULL,\n",
    "  ath DOUBLE,\n",
    "  ath_change_percentage DOUBLE,\n",
    "  ath_date_ts TIMESTAMP,\n",
    "  atl DOUBLE,\n",
    "  atl_change_percentage DOUBLE,\n",
    "  atl_date_ts TIMESTAMP,\n",
    "  last_updated_ts TIMESTAMP\n",
    ")\n",
    "USING DELTA\n",
    "LOCATION \"abfss://gold@joecryptostorage01.dfs.core.windows.net/dim_price_history\";"
   ]
  },
  {
   "cell_type": "code",
   "execution_count": 0,
   "metadata": {
    "application/vnd.databricks.v1+cell": {
     "cellMetadata": {
      "byteLimit": 2048000,
      "implicitDf": true,
      "rowLimit": 10000
     },
     "inputWidgets": {},
     "nuid": "4932d1ff-4a7c-47bc-8d2b-fcff7aeb3afa",
     "showTitle": false,
     "tableResultSettingsMap": {},
     "title": ""
    }
   },
   "outputs": [],
   "source": [
    "%sql\n",
    "MERGE INTO ctl_joecrypto.gold_schema.dim_roi AS target\n",
    "USING (\n",
    "  SELECT\n",
    "    id,\n",
    "    roi_time,\n",
    "    roi_currency,\n",
    "    roi_percentage,\n",
    "    last_updated_ts,\n",
    "    ROW_NUMBER() OVER (PARTITION BY id ORDER BY last_updated_ts DESC) AS rn\n",
    "  FROM (\n",
    "    SELECT *, \n",
    "    ROW_NUMBER() OVER (PARTITION BY id ORDER BY last_updated_ts DESC) AS rn \n",
    "    FROM ctl_joecrypto.staging_schema.silvercryptofinal\n",
    "  ) WHERE rn = 1\n",
    ") AS updated_rn\n",
    "\n",
    "ON target.id = updated_rn.id\n",
    "\n",
    "WHEN MATCHED AND updated_rn.rn = 1 THEN \n",
    "  UPDATE SET\n",
    "    target.roi_time = updated_rn.roi_time,\n",
    "    target.roi_currency = updated_rn.roi_currency,\n",
    "    target.roi_percentage = updated_rn.roi_percentage,\n",
    "    target.last_updated_ts = updated_rn.last_updated_ts\n",
    "\n",
    "WHEN NOT MATCHED AND updated_rn.rn = 1 THEN \n",
    "  INSERT (\n",
    "    id, \n",
    "    roi_time,\n",
    "    roi_currency,\n",
    "    roi_percentage,\n",
    "    last_updated_ts\n",
    "  ) \n",
    "  VALUES (\n",
    "    updated_rn.id,\n",
    "    updated_rn.roi_time,\n",
    "    updated_rn.roi_currency,\n",
    "    updated_rn.roi_percentage, \n",
    "    updated_rn.last_updated_ts    \n",
    "    \n",
    "  );"
   ]
  },
  {
   "cell_type": "code",
   "execution_count": 0,
   "metadata": {
    "application/vnd.databricks.v1+cell": {
     "cellMetadata": {
      "byteLimit": 2048000,
      "implicitDf": true,
      "rowLimit": 10000
     },
     "inputWidgets": {},
     "nuid": "e76ae257-b559-405b-a9df-dfe3d6d1b365",
     "showTitle": false,
     "tableResultSettingsMap": {},
     "title": ""
    }
   },
   "outputs": [],
   "source": [
    "%sql\n",
    "MERGE INTO ctl_joecrypto.gold_schema.dim_crypto AS target\n",
    "USING (\n",
    "  SELECT\n",
    "    id,\n",
    "    name,\n",
    "    symbol,\n",
    "    ath,\n",
    "    ath_change_percentage,\n",
    "    market_cap_billions,\n",
    "    volume_to_market_cap_ratio,\n",
    "    last_updated_ts,\n",
    "    ROW_NUMBER() OVER (PARTITION BY id ORDER BY last_updated_ts DESC) AS rn\n",
    "  FROM (SELECT *, ROW_NUMBER() OVER (PARTITION BY id ORDER BY last_updated_ts DESC) AS rn FROM ctl_joecrypto.staging_schema.silvercryptofinal) WHERE rn = 1\n",
    ") AS updated_rn\n",
    "\n",
    "ON target.id = updated_rn.id\n",
    "\n",
    "WHEN MATCHED AND updated_rn.rn = 1 THEN \n",
    "  UPDATE SET\n",
    "    target.name = updated_rn.name,\n",
    "    target.symbol = updated_rn.symbol,\n",
    "    target.ath = updated_rn.ath,\n",
    "    target.ath_change_percentage = updated_rn.ath_change_percentage,\n",
    "    target.market_cap_billions = updated_rn.market_cap_billions,\n",
    "    target.volume_to_market_cap_ratio = updated_rn.volume_to_market_cap_ratio,\n",
    "    target.last_updated_ts = updated_rn.last_updated_ts\n",
    "    WHEN NOT MATCHED AND updated_rn.rn = 1 THEN \n",
    "  INSERT (\n",
    "    id, \n",
    "    name,\n",
    "    symbol,\n",
    "    ath,\n",
    "    ath_change_percentage,\n",
    "    market_cap_billions,\n",
    "    volume_to_market_cap_ratio,\n",
    "    last_updated_ts\n",
    "  ) \n",
    "  VALUES (\n",
    "    updated_rn.id,\n",
    "    updated_rn.name,\n",
    "    updated_rn.symbol,\n",
    "    updated_rn.ath,\n",
    "    updated_rn.ath_change_percentage,\n",
    "    updated_rn.market_cap_billions,\n",
    "    updated_rn.volume_to_market_cap_ratio,\n",
    "    updated_rn.last_updated_ts\n",
    "  );"
   ]
  },
  {
   "cell_type": "code",
   "execution_count": 0,
   "metadata": {
    "application/vnd.databricks.v1+cell": {
     "cellMetadata": {
      "byteLimit": 2048000,
      "implicitDf": true,
      "rowLimit": 10000
     },
     "inputWidgets": {},
     "nuid": "9c7b15cb-4cd3-4075-9059-0fa563d51eec",
     "showTitle": false,
     "tableResultSettingsMap": {},
     "title": ""
    }
   },
   "outputs": [],
   "source": [
    "%sql\n",
    "MERGE INTO ctl_joecrypto.gold_schema.dim_price_history AS target\n",
    "USING (\n",
    "  SELECT\n",
    "   id,\n",
    "   ath,\n",
    "   ath_change_percentage,\n",
    "   ath_date_ts,\n",
    "   atl,\n",
    "   atl_change_percentage,\n",
    "   atl_date_ts,\n",
    "   last_updated_ts,\n",
    "   ROW_NUMBER() OVER (PARTITION BY id ORDER BY last_updated_ts DESC) AS rn\n",
    "  FROM (SELECT *, ROW_NUMBER() OVER (PARTITION BY id ORDER BY last_updated_ts DESC) AS rn FROM ctl_joecrypto.staging_schema.silvercryptofinal) WHERE rn = 1\n",
    ") AS updated_rn\n",
    "\n",
    "ON target.id = updated_rn.id\n",
    "\n",
    "WHEN MATCHED AND updated_rn.rn = 1 THEN \n",
    "  UPDATE SET\n",
    "    target.ath = updated_rn.ath,\n",
    "    target.ath_change_percentage = updated_rn.ath_change_percentage,\n",
    "    target.ath_date_ts = updated_rn.ath_date_ts,\n",
    "    target.atl = updated_rn.atl,\n",
    "    target.atl_change_percentage = updated_rn.atl_change_percentage,\n",
    "    target.atl_date_ts = updated_rn.atl_date_ts,\n",
    "    target.last_updated_ts = updated_rn.last_updated_ts\n",
    "   \n",
    "    WHEN NOT MATCHED AND updated_rn.rn = 1 THEN \n",
    "  INSERT (\n",
    "    id,\n",
    "   ath,\n",
    "   ath_change_percentage,\n",
    "   ath_date_ts,\n",
    "   atl,\n",
    "   atl_change_percentage,\n",
    "   atl_date_ts,\n",
    "   last_updated_ts\n",
    "  ) \n",
    "  VALUES (\n",
    "    updated_rn.id,\n",
    "    updated_rn.ath,\n",
    "    updated_rn.ath_change_percentage,\n",
    "    updated_rn.ath_date_ts,\n",
    "    updated_rn.atl,\n",
    "    updated_rn.atl_change_percentage,\n",
    "    updated_rn.atl_date_ts,\n",
    "    updated_rn.last_updated_ts\n",
    "  );\n",
    "    "
   ]
  },
  {
   "cell_type": "code",
   "execution_count": 0,
   "metadata": {
    "application/vnd.databricks.v1+cell": {
     "cellMetadata": {
      "byteLimit": 2048000,
      "implicitDf": true,
      "rowLimit": 10000
     },
     "inputWidgets": {},
     "nuid": "a108feb5-d808-4876-9dee-e2932f778620",
     "showTitle": false,
     "tableResultSettingsMap": {},
     "title": ""
    }
   },
   "outputs": [],
   "source": [
    "%sql\n",
    "MERGE INTO ctl_joecrypto.gold_schema.fact_crypto AS target\n",
    "USING (\n",
    "  SELECT \n",
    "    id,\n",
    "    market_cap_rank,\n",
    "    max_supply,\n",
    "    total_supply,\n",
    "    circulating_supply,\n",
    "    total_volume,\n",
    "    market_cap,\n",
    "    market_cap_change_24h,\n",
    "    market_cap_change_percentage_24h,\n",
    "    price_change_24h,\n",
    "    price_change_percentage_24h,\n",
    "    fully_diluted_valuation,\n",
    "    market_cap_billions,\n",
    "    high_24h,\n",
    "    low_24h,\n",
    "    current_price,\n",
    "    date_partition, \n",
    "    last_updated_ts,\n",
    "    ROW_NUMBER() OVER (PARTITION BY id ORDER BY last_updated_ts DESC) AS rn\n",
    "  FROM (SELECT *, ROW_NUMBER() OVER (PARTITION BY id ORDER BY last_updated_ts DESC) AS rn FROM ctl_joecrypto.staging_schema.silvercryptofinal) WHERE rn = 1\n",
    ") AS updated_rn\n",
    "\n",
    "ON target.id = updated_rn.id\n",
    "\n",
    "WHEN MATCHED AND updated_rn.rn = 1 THEN \n",
    "  UPDATE SET\n",
    "    target.market_cap_rank = updated_rn.market_cap_rank,\n",
    "    target.max_supply = updated_rn.max_supply,\n",
    "    target.total_supply = updated_rn.total_supply,\n",
    "    target.circulating_supply = updated_rn.circulating_supply,\n",
    "    target.total_volume = updated_rn.total_volume,\n",
    "    target.market_cap = updated_rn.market_cap,\n",
    "    target.market_cap_change_24h = updated_rn.market_cap_change_24h,\n",
    "    target.market_cap_change_percentage_24h = updated_rn.market_cap_change_percentage_24h,\n",
    "    target.price_change_24h = updated_rn.price_change_24h,\n",
    "    target.price_change_percentage_24h = updated_rn.price_change_percentage_24h,\n",
    "    target.fully_diluted_valuation = updated_rn.fully_diluted_valuation,\n",
    "    target.market_cap_billions = updated_rn.market_cap_billions,\n",
    "    target.high_24h = updated_rn.high_24h,\n",
    "    target.low_24h = updated_rn.low_24h,\n",
    "    target.current_price = updated_rn.current_price,\n",
    "    target.date_partition = updated_rn.date_partition,  \n",
    "    target.last_updated_ts = updated_rn.last_updated_ts\n",
    "\n",
    "WHEN NOT MATCHED AND updated_rn.rn = 1 THEN \n",
    "  INSERT (\n",
    "    id,\n",
    "    market_cap_rank,\n",
    "    max_supply,\n",
    "    total_supply,\n",
    "    circulating_supply,\n",
    "    total_volume,\n",
    "    market_cap,\n",
    "    market_cap_change_24h,\n",
    "    market_cap_change_percentage_24h,\n",
    "    price_change_24h,\n",
    "    price_change_percentage_24h,\n",
    "    fully_diluted_valuation,\n",
    "    market_cap_billions,\n",
    "    high_24h,\n",
    "    low_24h,\n",
    "    current_price,\n",
    "    date_partition,  \n",
    "    last_updated_ts\n",
    "  ) \n",
    "  VALUES (\n",
    "    updated_rn.id,\n",
    "    updated_rn.market_cap_rank,\n",
    "    updated_rn.max_supply,\n",
    "    updated_rn.total_supply,\n",
    "    updated_rn.circulating_supply,\n",
    "    updated_rn.total_volume,\n",
    "    updated_rn.market_cap,\n",
    "    updated_rn.market_cap_change_24h,\n",
    "    updated_rn.market_cap_change_percentage_24h,\n",
    "    updated_rn.price_change_24h,\n",
    "    updated_rn.price_change_percentage_24h,\n",
    "    updated_rn.fully_diluted_valuation,\n",
    "    updated_rn.market_cap_billions,\n",
    "    updated_rn.high_24h,\n",
    "    updated_rn.low_24h,\n",
    "    updated_rn.current_price,\n",
    "    updated_rn.date_partition,  \n",
    "    updated_rn.last_updated_ts\n",
    "  );"
   ]
  },
  {
   "cell_type": "code",
   "execution_count": 0,
   "metadata": {
    "application/vnd.databricks.v1+cell": {
     "cellMetadata": {},
     "inputWidgets": {},
     "nuid": "8f8dc886-7c11-4aed-9068-06520dfc7a65",
     "showTitle": false,
     "tableResultSettingsMap": {},
     "title": ""
    }
   },
   "outputs": [],
   "source": []
  },
  {
   "cell_type": "code",
   "execution_count": 0,
   "metadata": {
    "application/vnd.databricks.v1+cell": {
     "cellMetadata": {
      "byteLimit": 2048000,
      "rowLimit": 10000
     },
     "inputWidgets": {},
     "nuid": "288380c5-5ea6-4e97-a9be-c0ee1060e360",
     "showTitle": false,
     "tableResultSettingsMap": {},
     "title": ""
    }
   },
   "outputs": [],
   "source": [
    "transformed_data = spark.sql(\"\"\"\n",
    "SELECT\n",
    "    dc.dim_crypto_id,\n",
    "    cf.id,\n",
    "    name,\n",
    "    symbol,\n",
    "    ath,\n",
    "    ath_change_percentage,\n",
    "    cf.market_cap,\n",
    "    volume_to_market_cap_ratio,\n",
    "    (price_change_24h / cf.market_cap_billions) AS normalized_price_change_24h\n",
    "FROM\n",
    "    ctl_joecrypto.gold_schema.fact_crypto cf\n",
    "JOIN\n",
    "    ctl_joecrypto.gold_schema.dim_crypto dc\n",
    "ON cf.id = dc.id\n",
    "\"\"\")"
   ]
  }
 ],
 "metadata": {
  "application/vnd.databricks.v1+notebook": {
   "computePreferences": null,
   "dashboards": [],
   "environmentMetadata": {
    "base_environment": "",
    "environment_version": "2"
   },
   "inputWidgetPreferences": null,
   "language": "python",
   "notebookMetadata": {
    "mostRecentlyExecutedCommandWithImplicitDF": {
     "commandId": 7167305262505125,
     "dataframes": [
      "_sqldf"
     ]
    },
    "pythonIndentUnit": 4
   },
   "notebookName": "gold_layer 2025-06-23",
   "widgets": {}
  },
  "language_info": {
   "name": "python"
  }
 },
 "nbformat": 4,
 "nbformat_minor": 0
}
